{
 "cells": [
  {
   "cell_type": "markdown",
   "metadata": {},
   "source": [
    "# Bayesian Inference"
   ]
  },
  {
   "cell_type": "code",
   "execution_count": null,
   "metadata": {},
   "outputs": [],
   "source": [
    "using Distributions\n",
    "using Random\n",
    "using Gadfly\n",
    "using CSV\n",
    "using DataFrames"
   ]
  },
  {
   "cell_type": "markdown",
   "metadata": {},
   "source": [
    "## MCMC for GEV parameter estimation\n",
    "The data is the values at Saint-Jerôme, with 24h duration."
   ]
  },
  {
   "cell_type": "code",
   "execution_count": null,
   "metadata": {},
   "outputs": [],
   "source": [
    "csv = CSV.read(\"7037400.csv\");\n",
    "df = DataFrame(csv)\n",
    "data = df[:, Symbol(\"24 h\")]\n",
    "n = length(data);"
   ]
  },
  {
   "cell_type": "markdown",
   "metadata": {},
   "source": [
    "#### Iterations\n",
    "The parameters μ, σ and ξ will be estimated over k iterations\n",
    "\n",
    "#### Initial values\n",
    "\n",
    "μ = 0.0  \n",
    "ϕ = log(σ)  \n",
    "ϕ = 0.0  \n",
    "ξ = 0.0\n",
    "\n",
    "#### step\n",
    "μ - 3.0  \n",
    "ϕ - 0.2  \n",
    "ξ - 0.2"
   ]
  },
  {
   "cell_type": "code",
   "execution_count": null,
   "metadata": {},
   "outputs": [],
   "source": [
    "k = 2000\n",
    "u = Uniform(0,1)\n",
    "\n",
    "p = [\"μ\", \"σ\", \"ξ\"]\n",
    "θs = [[0.0], [0.0], [0.0]]\n",
    "step = [3.0, 0.2, 0.2]\n",
    "acc = [zeros(Int64,k), zeros(Int64,k), zeros(Int64,k)];"
   ]
  },
  {
   "cell_type": "markdown",
   "metadata": {},
   "source": [
    "#### Functions\n",
    "`getDistribution` returns the distribution for f(x|θ) using latest approximations  \n",
    "`getMutatedDistribution` returns the distribution for f(x|θ*) with the correct parameter mutated"
   ]
  },
  {
   "cell_type": "code",
   "execution_count": null,
   "metadata": {},
   "outputs": [],
   "source": [
    "function getDistribution()\n",
    "    return GeneralizedExtremeValue(θs[1][end], exp(θs[2][end]), θs[3][end])\n",
    "end\n",
    "\n",
    "getMutatedDistribution = [\n",
    "    mutateValue -> GeneralizedExtremeValue(mutateValue, exp(θs[2][end]), θs[3][end]),\n",
    "    mutateValue -> GeneralizedExtremeValue(θs[1][end], exp(mutateValue), θs[3][end]),\n",
    "    mutateValue -> GeneralizedExtremeValue(θs[1][end], exp(θs[2][end]), mutateValue)\n",
    "];"
   ]
  },
  {
   "cell_type": "markdown",
   "metadata": {},
   "source": [
    "### Random Step Metropolis Hastings\n",
    "The step used follows a normal distribution with variance 0.9.\n",
    "#### Acceptance probability\n",
    "The values obtained by calculating the probability of acceptance are too close to 0. Multiplying them together leads to instability. The logarithms of theses probabilities are taken and added together to stabilize the numerical values.\n",
    "#### Prior law\n",
    "Improper laws:\n",
    "\n",
    "f(μ) ∝ 1  \n",
    "f(ϕ) ∝ 1  \n",
    "f(ξ) ∝ 1\n",
    "\n",
    "They multiply the probability by 1, or add log(1) = 0 to the log of the probability. Therefore, they do not modify the result and only the likelihood can be used."
   ]
  },
  {
   "cell_type": "code",
   "execution_count": null,
   "metadata": {
    "scrolled": true
   },
   "outputs": [],
   "source": [
    "for iteration in 2:k\n",
    "    for i in 1:length(p)\n",
    "        θ = rand(Normal(θs[i][end], step[i]))\n",
    "    \n",
    "        logpP = sum(log.(pdf.(getMutatedDistribution[i](θ), data)))\n",
    "        logpC = sum(log.(pdf.(getDistribution(), data)))\n",
    "        \n",
    "        logα = min(0,logpP - logpC)\n",
    "        logu = log(rand(u))\n",
    "        \n",
    "        if logu < logα\n",
    "            push!(θs[i], θ)\n",
    "            acc[i][iteration] = 1\n",
    "        else\n",
    "            push!(θs[i], θs[i][end])\n",
    "        end\n",
    "    end\n",
    "end"
   ]
  },
  {
   "cell_type": "markdown",
   "metadata": {},
   "source": [
    "#### Estimation of parameters\n",
    "The parameters are estimated using the mean of their values after a certain threshold. This threshold is selected by looking at the graph and selecting the start point where the lines are stable."
   ]
  },
  {
   "cell_type": "code",
   "execution_count": null,
   "metadata": {},
   "outputs": [],
   "source": [
    "start = 250\n",
    "stableμ = θs[1][start:end]\n",
    "stableσ = exp.(θs[2][start:end])\n",
    "stableξ = θs[3][start:end]\n",
    "\n",
    "μmean =  mean(stableμ)\n",
    "σmean =  mean(stableσ)\n",
    "ξmean =  mean(stableξ)\n",
    "\n",
    "println(\"μ\")\n",
    "println(\"Mean : \", μmean)\n",
    "println(\"Standard deviation : \", sqrt(var(stableμ)))\n",
    "println(\"Acceptance : \", mean(acc[1][start:end]))\n",
    "\n",
    "println(\"\\nσ\")\n",
    "println(\"Mean : \", σmean)\n",
    "println(\"Standard deviation : \", sqrt(var(stableσ)))\n",
    "println(\"Acceptance : \", mean(acc[2][start:end]))\n",
    "\n",
    "println(\"\\nξ\")\n",
    "println(\"Mean : \", ξmean)\n",
    "println(\"Standard deviation : \", sqrt(var(stableξ)))\n",
    "println(\"Acceptance : \", mean(acc[3][start:end]))\n",
    "\n",
    "\n",
    "layerμ = layer(x = 1:k, y = θs[1], Geom.line, Theme(default_color=\"green\"))\n",
    "layerσ = layer(x = 1:k, y = exp.(θs[2]), Geom.line, Theme(default_color=\"purple\"))\n",
    "layerξ = layer(x = 1:k, y = θs[3], Geom.line, Theme(default_color=\"orange\"))\n",
    "\n",
    "plot(layerμ, layerσ, layerξ, Guide.title(\"MCMC\"),\n",
    "    Coord.cartesian(ymin = -1),\n",
    "    Guide.manual_color_key(\"Parameter\", [\"μ\", \"σ\", \"ξ\"], [\"green\", \"purple\", \"orange\"]),\n",
    "    xintercept=[start], Geom.vline(style=[:solid]))"
   ]
  }
 ],
 "metadata": {
  "kernelspec": {
   "display_name": "Julia 1.4.1",
   "language": "julia",
   "name": "julia-1.4"
  },
  "language_info": {
   "file_extension": ".jl",
   "mimetype": "application/julia",
   "name": "julia",
   "version": "1.4.1"
  }
 },
 "nbformat": 4,
 "nbformat_minor": 2
}
