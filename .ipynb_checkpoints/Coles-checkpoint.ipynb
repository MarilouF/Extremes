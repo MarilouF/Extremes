{
 "cells": [
  {
   "cell_type": "markdown",
   "metadata": {},
   "source": [
    "# Coles TODO : CHECK ALL RESULTS"
   ]
  },
  {
   "cell_type": "code",
   "execution_count": null,
   "metadata": {},
   "outputs": [],
   "source": [
    "using DataFrames\n",
    "using Extremes\n",
    "using Distributions\n",
    "using Gadfly"
   ]
  },
  {
   "cell_type": "markdown",
   "metadata": {},
   "source": [
    "### Model validation functions\n",
    "\n",
    "`validationplots` is the function that should be called to display all the graphs "
   ]
  },
  {
   "cell_type": "code",
   "execution_count": null,
   "metadata": {},
   "outputs": [],
   "source": [
    "function probabilityplot(z::Array{Float64}, m::Int64, i::Array{Float64}, gev::GeneralizedExtremeValue) #TODO : strucEVA\n",
    "    G̃ = @. i / (m + 1)\n",
    "    Ĝ = cdf.(gev, z)\n",
    "\n",
    "    l1 = layer(x = G̃, y = Ĝ, Geom.point, Theme(default_color=\"green\"))\n",
    "    l2 = layer(x = 0.0:0.5:1.0, y = 0.0:0.5:1.0, Geom.line)\n",
    "    \n",
    "    return plot(l1, l2, Guide.xlabel(\"Empirical\"), Guide.ylabel(\"Model\"), Guide.title(\"Probability plot\"))\n",
    "end\n",
    "\n",
    "function quantileplot(z::Array{Float64}, m::Int64, i::Array{Float64}, gev::GeneralizedExtremeValue)\n",
    "    Ĝ⁻¹ = @. quantile(gev, i / (m + 1))\n",
    "\n",
    "    l1 = layer(x = Ĝ⁻¹, y = z, Geom.point, Theme(default_color=\"green\"))\n",
    "    l2 = layer(x = Ĝ⁻¹[1]:(Ĝ⁻¹[m] - Ĝ⁻¹[1])/2:Ĝ⁻¹[m], y = Ĝ⁻¹[1]:(Ĝ⁻¹[m] - Ĝ⁻¹[1])/2:Ĝ⁻¹[m], Geom.line)\n",
    "    \n",
    "    return plot(l1, l2, Guide.title(\"Quantile Plot\"), Guide.xlabel(\"Model\"), Guide.ylabel(\"Empirical\"),\n",
    "        Coord.cartesian(xmin = Ĝ⁻¹[1], ymin = z[1]))\n",
    "end\n",
    "\n",
    "function returnlevelplot(data::Array{Float64}, gev::GeneralizedExtremeValue)\n",
    "    sorted = sort(data)\n",
    "    n = length(data)\n",
    "    T = 2:0.2:10\n",
    "    logT = log.(T)\n",
    "    p = @. 1 - 1 / T\n",
    "\n",
    "    q = @. sorted[Int(round(p * n))]\n",
    "    layers = []\n",
    "    push!(layers, layer(x = logT, y = q, Geom.point, Theme(default_color=\"green\")))\n",
    "\n",
    "    shape = [-0.2, 0.0, 0.2]\n",
    "    for ξ in shape\n",
    "        pd = GeneralizedExtremeValue(gev.μ, gev.σ, ξ)\n",
    "        q = quantile.(pd, p)\n",
    "        push!(layers, layer(x = logT, y = q, Geom.line))\n",
    "    end\n",
    "    return plot(layers..., Guide.title(\"Return Level Plot\"), Guide.xlabel(\"Period\"), Guide.ylabel(\"Level\"),\n",
    "        Coord.cartesian(xmin = logT[1]))\n",
    "end\n",
    "\n",
    "function densityplot(gev::GeneralizedExtremeValue, data::Array{Float64}, start::Float64, step::Float64, finish::Float64)\n",
    "    n = length(data)\n",
    "    \n",
    "    function density(z::Float64)\n",
    "        return sum((data .>= (z - step / 2) * ones(n)) .& (data .<= (z + step / 2) * ones(n)))\n",
    "    end\n",
    "    \n",
    "    zb = (start + step/2):step:(finish + step/2)\n",
    "    db = density.(zb) * 1 / (n * step)\n",
    "    lb = layer(x = zb, y = db, Geom.BarGeometry)\n",
    "    \n",
    "    zl = start:0.01:finish\n",
    "    dl = pdf.(gev, zl)\n",
    "    ll = layer(x = zl, y = dl, Geom.line, Theme(default_color = \"Green\"))\n",
    "    \n",
    "    plot(ll, lb, Guide.title(\"Density Plot\"), Guide.xlabel(\"z\"), Guide.ylabel(\"f(z)\"))\n",
    "end\n",
    "\n",
    "function validationplots(data::Array{Float64}, gev::GeneralizedExtremeValue, dstart::Float64, dstep::Float64, dfinish::Float64)\n",
    "    z = sort(data)\n",
    "    m = length(z)\n",
    "    i = collect(1.0:m)\n",
    "    \n",
    "    probabilityPlot = probabilityplot(z, m, i, gev)\n",
    "    quantilePlot = quantileplot(z, m, i, gev)\n",
    "    returnLevelPlot = returnlevelplot(data, gev)\n",
    "    densityPlot = densityplot(gev, data, dstart, dstep, dfinish)\n",
    "    \n",
    "    gridstack([probabilityPlot quantilePlot; returnLevelPlot densityPlot])\n",
    "end;"
   ]
  },
  {
   "cell_type": "markdown",
   "metadata": {},
   "source": [
    "### Utility function\n",
    "\n",
    "`printparams` prints the parameter estimation for a block maxima structure"
   ]
  },
  {
   "cell_type": "code",
   "execution_count": null,
   "metadata": {},
   "outputs": [],
   "source": [
    "function printparams(eva::Extremes.BlockMaxima)\n",
    "    for (index, value) in pairs(eva.model.paramindex)\n",
    "        println(index, \" : \", eva.θ̂[value])\n",
    "    end\n",
    "end;"
   ]
  },
  {
   "cell_type": "markdown",
   "metadata": {},
   "source": [
    "## 3.4.1 Annual Maximum Sea-levels at Port Pirie"
   ]
  },
  {
   "cell_type": "code",
   "execution_count": null,
   "metadata": {},
   "outputs": [],
   "source": [
    "raw = load(\"portpirie\")\n",
    "df = DataFrame(raw)\n",
    "data = df[:, :SeaLevel];"
   ]
  },
  {
   "cell_type": "code",
   "execution_count": null,
   "metadata": {},
   "outputs": [],
   "source": [
    "gevEVA = gevfit(data)\n",
    "gev = Extremes.getdistribution(gevEVA)"
   ]
  },
  {
   "cell_type": "code",
   "execution_count": null,
   "metadata": {},
   "outputs": [],
   "source": [
    "validationplots(data, gev, 3.5, 0.1, 4.7)"
   ]
  },
  {
   "cell_type": "markdown",
   "metadata": {},
   "source": [
    "## 3.4.2 Glass Fiber Strength Example "
   ]
  },
  {
   "cell_type": "code",
   "execution_count": null,
   "metadata": {},
   "outputs": [],
   "source": [
    "raw = load(\"glass\")\n",
    "df = DataFrame(raw)\n",
    "data = -1 * df[:, :Strength]; # minima"
   ]
  },
  {
   "cell_type": "code",
   "execution_count": null,
   "metadata": {},
   "outputs": [],
   "source": [
    "gevEVA = gevfit(data)\n",
    "gev = Extremes.getdistribution(gevEVA)"
   ]
  },
  {
   "cell_type": "code",
   "execution_count": null,
   "metadata": {},
   "outputs": [],
   "source": [
    "validationplots(data, gev, -2.5, 0.15, -0.4)"
   ]
  },
  {
   "cell_type": "markdown",
   "metadata": {},
   "source": [
    "## 4.4.1 Daily Rainfall Data"
   ]
  },
  {
   "cell_type": "code",
   "execution_count": null,
   "metadata": {},
   "outputs": [],
   "source": [
    "raw = load(\"rain\")\n",
    "df = DataFrame(raw)\n",
    "data = df[:, :Rainfall]\n",
    "\n",
    "threshold = 30\n",
    "exceedances = data[data.>threshold] .- threshold\n",
    "\n",
    "gpEVA = Extremes.gpfit(exceedances, threshold = [threshold]) # TODO: Export\n",
    "gp = Extremes.getdistribution(gpEVA)"
   ]
  },
  {
   "cell_type": "code",
   "execution_count": null,
   "metadata": {},
   "outputs": [],
   "source": [
    "# TODO: VALIDATION PLOTS"
   ]
  },
  {
   "cell_type": "markdown",
   "metadata": {},
   "source": [
    "## Dow Jones Index Series"
   ]
  },
  {
   "cell_type": "code",
   "execution_count": null,
   "metadata": {},
   "outputs": [],
   "source": [
    "raw = lraw = load(\"dowjones\")\n",
    "df = DataFrame(raw)\n",
    "data = df[:, :Index]\n",
    "\n",
    "# transform\n",
    "datatrans = copy(data)\n",
    "push!(datatrans, 0.0)\n",
    "pushfirst!(data, 0.0)\n",
    "data = @. log(data) - log(datatrans)\n",
    "pop!(data)\n",
    "popfirst!(data)\n",
    "data = 100 * data\n",
    "\n",
    "threshold = 2\n",
    "exceedances = data[data.>threshold] .- threshold\n",
    "\n",
    "gpEVA = Extremes.gpfit(exceedances, threshold = [threshold]) # TODO : export\n",
    "gp = Extremes.getdistribution(gpEVA)"
   ]
  },
  {
   "cell_type": "code",
   "execution_count": null,
   "metadata": {},
   "outputs": [],
   "source": [
    "# TODO: VALIDATION PLOTS"
   ]
  },
  {
   "cell_type": "markdown",
   "metadata": {},
   "source": [
    "## 6.3.1 Annual Maximum Sea-levels"
   ]
  },
  {
   "cell_type": "code",
   "execution_count": null,
   "metadata": {},
   "outputs": [],
   "source": [
    "quantileχ²₁ = quantile(Chisq(1), 0.95)"
   ]
  },
  {
   "cell_type": "markdown",
   "metadata": {},
   "source": [
    "### Port Pirie"
   ]
  },
  {
   "cell_type": "code",
   "execution_count": null,
   "metadata": {},
   "outputs": [],
   "source": [
    "raw = load(\"portpirie\")\n",
    "df = DataFrame(raw)\n",
    "data = df[:, :SeaLevel]\n",
    "\n",
    "t = collect(1:length(data))\n",
    "\n",
    "d = Dict(:data => data, :t => t, :n => length(data));"
   ]
  },
  {
   "cell_type": "markdown",
   "metadata": {},
   "source": [
    "#### Stationnary"
   ]
  },
  {
   "cell_type": "code",
   "execution_count": null,
   "metadata": {
    "scrolled": true
   },
   "outputs": [],
   "source": [
    "gevEVA = gevfit(data)\n",
    "printparams(gevEVA)\n",
    "gev = Extremes.getdistribution(gevEVA)\n",
    "\n",
    "mlogls = sum(@. log(pdf(gev, data)));"
   ]
  },
  {
   "cell_type": "markdown",
   "metadata": {},
   "source": [
    "#### μ linear"
   ]
  },
  {
   "cell_type": "code",
   "execution_count": null,
   "metadata": {},
   "outputs": [],
   "source": [
    "cov = Dict(:μ => [:t], :ϕ => Symbol[], :ξ => Symbol[])\n",
    "EVA = gevfit(d, :data, Covariate = cov)\n",
    "printparams(EVA)\n",
    "linμgev = Extremes.getdistribution(EVA);\n",
    "\n",
    "mloglμlinear = sum(@. log(pdf(linμgev, data)))\n",
    "\n",
    "D = 2(mloglμlinear - mlogls)\n",
    "\n",
    "println()\n",
    "println(\"linear μ vs. stationnary μ\")\n",
    "println(D, \" < \", quantileχ²₁)\n",
    "println(\"Stationnary is a better represantation\")"
   ]
  },
  {
   "cell_type": "markdown",
   "metadata": {},
   "source": [
    "### Fremantle"
   ]
  },
  {
   "cell_type": "code",
   "execution_count": null,
   "metadata": {},
   "outputs": [],
   "source": [
    "raw = load(\"fremantle\")\n",
    "df = DataFrame(raw)\n",
    "data = df[:, :SeaLevel]\n",
    "year = df[:, :Year]\n",
    "soi = df[:, :SOI]\n",
    "\n",
    "t = collect(1:length(data))\n",
    "t2 = t.^2\n",
    "\n",
    "d = Dict(:data => data, :t => t, :t2 => t2, :soi => soi, :n => length(data));"
   ]
  },
  {
   "cell_type": "markdown",
   "metadata": {},
   "source": [
    "#### Stationnary"
   ]
  },
  {
   "cell_type": "code",
   "execution_count": null,
   "metadata": {},
   "outputs": [],
   "source": [
    "gevEVA = gevfit(data)\n",
    "printparams(gevEVA)\n",
    "gev = Extremes.getdistribution(gevEVA)\n",
    "\n",
    "mloglstationnary = sum(@. log(pdf(gev, data)));"
   ]
  },
  {
   "cell_type": "markdown",
   "metadata": {},
   "source": [
    "#### μ linear"
   ]
  },
  {
   "cell_type": "code",
   "execution_count": null,
   "metadata": {},
   "outputs": [],
   "source": [
    "cov = Dict(:μ => [:t], :ϕ => Symbol[], :ξ => Symbol[])\n",
    "EVA = gevfit(d, :data, Covariate = cov)\n",
    "printparams(EVA)\n",
    "linμgev = Extremes.getdistribution(EVA);\n",
    "\n",
    "mloglμlinear = sum(@. log(pdf(linμgev, data)))\n",
    "\n",
    "println()\n",
    "println(\"linear μ vs. stationnary μ\")\n",
    "D = 2(mloglμlinear - mloglstationnary)\n",
    "println(D, \" > \", quantileχ²₁)\n",
    "println(\"Linear is a better representation\")"
   ]
  },
  {
   "cell_type": "code",
   "execution_count": null,
   "metadata": {},
   "outputs": [],
   "source": [
    "t₁ =  1897\n",
    "\n",
    "l1 = layer(x = year, y = data)\n",
    "\n",
    "μs = EVA.θ̂[EVA.model.paramindex[:μ]]\n",
    "println(\"μ̂  = \", μs)\n",
    "\n",
    "β̂₀ = μs[1]\n",
    "β̂₁ = μs[2]\n",
    "l = @. β̂₀ + β̂₁ * (year - t₁)\n",
    "\n",
    "l2 = layer(x = year, y = l, Geom.line, Theme(default_color = \"green\"))\n",
    "\n",
    "plot(l2, l1, Coord.cartesian(xmin = year[1]),\n",
    "    Guide.title(\"Fitted estimates for μ\"), Guide.xlabel(\"Year\"), Guide.ylabel(\"Sea-level\"))"
   ]
  },
  {
   "cell_type": "markdown",
   "metadata": {},
   "source": [
    "####  μ quadratic"
   ]
  },
  {
   "cell_type": "code",
   "execution_count": null,
   "metadata": {},
   "outputs": [],
   "source": [
    "cov = Dict(:μ => [:t, :t2], :ϕ => Symbol[], :ξ => Symbol[])\n",
    "EVA = gevfit(d, :data, Covariate = cov)\n",
    "printparams(EVA)\n",
    "quadμgev = Extremes.getdistribution(EVA);\n",
    "\n",
    "mloglμquadratic = sum(@. log(pdf(quadμgev, data)))\n",
    "\n",
    "println()\n",
    "println(\"quadratic μ vs. linear μ\")\n",
    "D = 2(mloglμquadratic - mloglμlinear)\n",
    "println(D, \" < \", quantileχ²₁)\n",
    "println(\"Linear is a better representation\")"
   ]
  },
  {
   "cell_type": "markdown",
   "metadata": {},
   "source": [
    "#### σ linear"
   ]
  },
  {
   "cell_type": "code",
   "execution_count": null,
   "metadata": {},
   "outputs": [],
   "source": [
    "cov = Dict(:μ => [:t], :ϕ => [:t], :ξ => Symbol[])\n",
    "EVA = gevfit(d, :data, Covariate = cov)\n",
    "printparams(EVA)\n",
    "linσgev = Extremes.getdistribution(EVA);\n",
    "\n",
    "mloglμlinearσlinear = sum(@. log(pdf(linσgev, data)))\n",
    "\n",
    "println()\n",
    "println(\"linear σ vs. stationnary σ\")\n",
    "D = 2(mloglμlinearσlinear - mloglμlinear)\n",
    "println(D, \" < \", quantileχ²₁)\n",
    "println(\"Stationnary is a better representation\")"
   ]
  },
  {
   "cell_type": "markdown",
   "metadata": {},
   "source": [
    "#### μ SOI"
   ]
  },
  {
   "cell_type": "code",
   "execution_count": null,
   "metadata": {},
   "outputs": [],
   "source": [
    "cov = Dict(:μ => [:soi], :ϕ => Symbol[], :ξ => Symbol[])\n",
    "EVA = gevfit(d, :data, Covariate = cov)\n",
    "printparams(EVA)\n",
    "soiμgev = Extremes.getdistribution(EVA);\n",
    "\n",
    "mloglSOIμ = sum(@. log(pdf(soiμgev, data)))\n",
    "\n",
    "println()\n",
    "println(\"SOI μ vs. stationnary μ\")\n",
    "D = 2(mloglSOIμ - mloglstationnary)\n",
    "println(D, \" > \", quantileχ²₁)\n",
    "println(\"SOI is a better representation\")"
   ]
  },
  {
   "cell_type": "markdown",
   "metadata": {},
   "source": [
    "#### μ linear + SOI"
   ]
  },
  {
   "cell_type": "code",
   "execution_count": null,
   "metadata": {},
   "outputs": [],
   "source": [
    "cov = Dict(:μ => [:t, :soi], :ϕ => Symbol[], :ξ => Symbol[])\n",
    "EVA = gevfit(d, :data, Covariate = cov)\n",
    "printparams(EVA)\n",
    "linsoiμgev = Extremes.getdistribution(EVA);\n",
    "\n",
    "mloglSOIlinearμ = sum(@. log(pdf(linsoiμgev, data)))\n",
    "\n",
    "println()\n",
    "println(\"linear + SOI μ vs. linear μ\")\n",
    "D = 2(mloglSOIlinearμ - mloglμlinear)\n",
    "println(D, \" > \", quantileχ²₁)\n",
    "println(\"Linear + SOI is a better representation\")"
   ]
  },
  {
   "cell_type": "markdown",
   "metadata": {},
   "source": [
    "## 6.3.4 Daily Rainfall Data "
   ]
  },
  {
   "cell_type": "code",
   "execution_count": null,
   "metadata": {},
   "outputs": [],
   "source": [
    "raw = load(\"rain\")\n",
    "df = DataFrame(raw)\n",
    "data = df[:, :Rainfall];"
   ]
  },
  {
   "cell_type": "code",
   "execution_count": null,
   "metadata": {},
   "outputs": [],
   "source": [
    "# TODO : pareto + \\sigma linear + deviance statistic"
   ]
  }
 ],
 "metadata": {
  "kernelspec": {
   "display_name": "Julia 1.4.1",
   "language": "julia",
   "name": "julia-1.4"
  },
  "language_info": {
   "file_extension": ".jl",
   "mimetype": "application/julia",
   "name": "julia",
   "version": "1.4.1"
  }
 },
 "nbformat": 4,
 "nbformat_minor": 2
}
