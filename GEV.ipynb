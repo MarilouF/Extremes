{
 "cells": [
  {
   "cell_type": "markdown",
   "metadata": {},
   "source": [
    "# GEV\n",
    "## Data : Saint-Jérôme, 24h"
   ]
  },
  {
   "cell_type": "code",
   "execution_count": null,
   "metadata": {},
   "outputs": [],
   "source": [
    "using CSV\n",
    "using DataFrames\n",
    "using Extremes\n",
    "using Distributions\n",
    "using Gadfly"
   ]
  },
  {
   "cell_type": "markdown",
   "metadata": {},
   "source": [
    "### Data loading"
   ]
  },
  {
   "cell_type": "code",
   "execution_count": null,
   "metadata": {},
   "outputs": [],
   "source": [
    "csv = CSV.read(\"7037400.csv\");"
   ]
  },
  {
   "cell_type": "code",
   "execution_count": null,
   "metadata": {},
   "outputs": [],
   "source": [
    "df = DataFrame(csv)\n",
    "d = df[:, Symbol(\"24 h\")];"
   ]
  },
  {
   "cell_type": "markdown",
   "metadata": {},
   "source": [
    "### Model validation functions\n",
    "\n",
    "`getModelValidationPlots` is the function that should be called to display all the graphs "
   ]
  },
  {
   "cell_type": "code",
   "execution_count": null,
   "metadata": {},
   "outputs": [],
   "source": [
    "function getProbabilityPlot(z::Array{Float64}, m::Int64, i::Array{Float64}, gev::GeneralizedExtremeValue)\n",
    "    G̃ = @. i / (m + 1)\n",
    "    Ĝ = @. ℯ ^ (-(1 + gev.ξ * (z - gev.μ) / gev.σ) ^ (-1/gev.ξ))\n",
    "\n",
    "    l1 = layer(x = G̃, y = Ĝ, Geom.point, Theme(default_color=\"green\"))\n",
    "    l2 = layer(x = 0:0.5:1, y = 0:0.5:1, Geom.line)\n",
    "    \n",
    "    return plot(l1, l2, Guide.xlabel(\"Empirical\"), Guide.ylabel(\"Model\"), Guide.title(\"Probability plot\"))\n",
    "end\n",
    "\n",
    "function getQuantilePlot(z::Array{Float64}, m::Int64, i::Array{Float64}, gev::GeneralizedExtremeValue)\n",
    "    Ĝ⁻¹ = @. gev.μ - gev.σ / gev.ξ * (1 - (-log(i / (m + 1))) ^ (-gev.ξ))\n",
    "\n",
    "    l1 = layer(x = Ĝ⁻¹, y = z, Geom.point, Theme(default_color=\"green\"))\n",
    "    l2 = layer(x = Ĝ⁻¹[1]:(Ĝ⁻¹[m] - Ĝ⁻¹[1])/2:Ĝ⁻¹[m], y = Ĝ⁻¹[1]:(Ĝ⁻¹[m] - Ĝ⁻¹[1])/2:Ĝ⁻¹[m], Geom.line)\n",
    "    \n",
    "    return plot(l1, l2, Guide.title(\"Quantile Plot\"), Guide.xlabel(\"Model\"), Guide.ylabel(\"Empirical\"),\n",
    "        Coord.cartesian(xmin = Ĝ⁻¹[1], ymin = z[1]))\n",
    "end\n",
    "\n",
    "function getReturnLevelPlot(gev::GeneralizedExtremeValue)\n",
    "    T = 2:10\n",
    "    logT = log.(T)\n",
    "    p = @. 1 - 1 / T\n",
    "\n",
    "    q = quantile.(gev, p)\n",
    "    layers = []\n",
    "    push!(layers, layer(x = logT, y = q, Geom.point, Theme(default_color=\"green\")))\n",
    "\n",
    "    shape = [-0.2, 0.0, 0.2]\n",
    "    for ξ in shape\n",
    "        pd = GeneralizedExtremeValue(gev.μ, gev.σ, ξ)\n",
    "        q = quantile.(pd, p)\n",
    "        push!(layers, layer(x = logT, y = q, Geom.line))\n",
    "    end\n",
    "    return plot(layers..., Guide.title(\"Return Level Plot\"), Guide.xlabel(\"Return Period\"), Guide.ylabel(\"Return Level\"),\n",
    "        Coord.cartesian(xmin = logT[1]))\n",
    "end\n",
    "\n",
    "function getModelValidationPlots(data::Array{Float64}, gev::GeneralizedExtremeValue)\n",
    "    z = sort(data)\n",
    "    m = length(z)\n",
    "    i = collect(1.0:m)\n",
    "    \n",
    "    probabilityPlot = getProbabilityPlot(z, m, i, gev)\n",
    "    quantilePlot = getQuantilePlot(z, m, i, gev)\n",
    "    returnLevelPlot = getReturnLevelPlot(gev)\n",
    "    \n",
    "    hstack(probabilityPlot, quantilePlot, returnLevelPlot)\n",
    "end;"
   ]
  },
  {
   "cell_type": "markdown",
   "metadata": {},
   "source": [
    "### Using Extremes library to estimate GEV params\n",
    "\n",
    "#### Maximum Likelihood"
   ]
  },
  {
   "cell_type": "code",
   "execution_count": null,
   "metadata": {},
   "outputs": [],
   "source": [
    "gevML = gevfit(d)"
   ]
  },
  {
   "cell_type": "code",
   "execution_count": null,
   "metadata": {},
   "outputs": [],
   "source": [
    "getModelValidationPlots(d, gevML)"
   ]
  },
  {
   "cell_type": "markdown",
   "metadata": {},
   "source": [
    "#### Bayesian Inference"
   ]
  },
  {
   "cell_type": "code",
   "execution_count": null,
   "metadata": {},
   "outputs": [],
   "source": [
    "gevBs = gevfitbayes(d, stepSize = [3.5, 0.2, 0.15])\n",
    "μ = mean([g.μ for g in gevBs])\n",
    "σ = mean([g.σ for g in gevBs])\n",
    "ξ = mean([g.ξ for g in gevBs])\n",
    "gevB = GeneralizedExtremeValue(μ, σ, ξ)"
   ]
  },
  {
   "cell_type": "code",
   "execution_count": null,
   "metadata": {},
   "outputs": [],
   "source": [
    "getModelValidationPlots(d, gevB)"
   ]
  },
  {
   "cell_type": "markdown",
   "metadata": {},
   "source": [
    "### Interpretation"
   ]
  },
  {
   "cell_type": "code",
   "execution_count": null,
   "metadata": {},
   "outputs": [],
   "source": [
    "T = 2:10\n",
    "p = @. 1 - 1 / T\n",
    "\n",
    "index = 1\n",
    "print(\"Every year, the value $(quantile.(gevML, p[index])) has $((1 - p[index]) * 100)% chance of being exceeded\")\n",
    "print(\"\\nor\\n\")\n",
    "print(\"The value $(quantile.(gevML, p[index])) should be exceeded on average every $(T[index]) years\")"
   ]
  }
 ],
 "metadata": {
  "kernelspec": {
   "display_name": "Julia 1.4.1",
   "language": "julia",
   "name": "julia-1.4"
  },
  "language_info": {
   "file_extension": ".jl",
   "mimetype": "application/julia",
   "name": "julia",
   "version": "1.4.1"
  }
 },
 "nbformat": 4,
 "nbformat_minor": 2
}
