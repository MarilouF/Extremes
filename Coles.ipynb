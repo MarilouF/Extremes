{
 "cells": [
  {
   "cell_type": "markdown",
   "metadata": {},
   "source": [
    "# Coles"
   ]
  },
  {
   "cell_type": "code",
   "execution_count": null,
   "metadata": {},
   "outputs": [],
   "source": [
    "using CSV\n",
    "using DataFrames\n",
    "using Extremes\n",
    "using Distributions\n",
    "using Gadfly"
   ]
  },
  {
   "cell_type": "markdown",
   "metadata": {},
   "source": [
    "### Model validation functions\n",
    "\n",
    "`validationplots` is the function that should be called to display all the graphs "
   ]
  },
  {
   "cell_type": "code",
   "execution_count": null,
   "metadata": {},
   "outputs": [],
   "source": [
    "function probabilityplot(z::Array{Float64}, m::Int64, i::Array{Float64}, gev::GeneralizedExtremeValue)\n",
    "    G̃ = @. i / (m + 1)\n",
    "    Ĝ = @. ℯ ^ (-(1 + gev.ξ * (z - gev.μ) / gev.σ) ^ (-1/gev.ξ))\n",
    "\n",
    "    l1 = layer(x = G̃, y = Ĝ, Geom.point, Theme(default_color=\"green\"))\n",
    "    l2 = layer(x = 0.0:0.5:1.0, y = 0.0:0.5:1.0, Geom.line)\n",
    "    \n",
    "    return plot(l1, l2, Guide.xlabel(\"Empirical\"), Guide.ylabel(\"Model\"), Guide.title(\"Probability plot\"))\n",
    "end\n",
    "\n",
    "function quantileplot(z::Array{Float64}, m::Int64, i::Array{Float64}, gev::GeneralizedExtremeValue)\n",
    "    Ĝ⁻¹ = @. gev.μ - gev.σ / gev.ξ * (1 - (-log(i / (m + 1))) ^ (-gev.ξ))\n",
    "\n",
    "    l1 = layer(x = Ĝ⁻¹, y = z, Geom.point, Theme(default_color=\"green\"))\n",
    "    l2 = layer(x = Ĝ⁻¹[1]:(Ĝ⁻¹[m] - Ĝ⁻¹[1])/2:Ĝ⁻¹[m], y = Ĝ⁻¹[1]:(Ĝ⁻¹[m] - Ĝ⁻¹[1])/2:Ĝ⁻¹[m], Geom.line)\n",
    "    \n",
    "    return plot(l1, l2, Guide.title(\"Quantile Plot\"), Guide.xlabel(\"Model\"), Guide.ylabel(\"Empirical\"),\n",
    "        Coord.cartesian(xmin = Ĝ⁻¹[1], ymin = z[1]))\n",
    "end\n",
    "\n",
    "function returnlevelplot(data::Array{Float64}, gev::GeneralizedExtremeValue)\n",
    "    sorted = sort(data)\n",
    "    n = length(data)\n",
    "    T = 2:0.2:10\n",
    "    logT = log.(T)\n",
    "    p = @. 1 - 1 / T\n",
    "\n",
    "    q = @. sorted[Int(round(p * n))]\n",
    "    layers = []\n",
    "    push!(layers, layer(x = logT, y = q, Geom.point, Theme(default_color=\"green\")))\n",
    "\n",
    "    shape = [-0.2, 0.0, 0.2]\n",
    "    for ξ in shape\n",
    "        pd = GeneralizedExtremeValue(gev.μ, gev.σ, ξ)\n",
    "        q = quantile.(pd, p)\n",
    "        push!(layers, layer(x = logT, y = q, Geom.line))\n",
    "    end\n",
    "    return plot(layers..., Guide.title(\"Return Level Plot\"), Guide.xlabel(\"Period\"), Guide.ylabel(\"Level\"),\n",
    "        Coord.cartesian(xmin = logT[1]))\n",
    "end\n",
    "\n",
    "function densityplot(gev::GeneralizedExtremeValue, data::Array{Float64}, start::Float64, step::Float64, finish::Float64)\n",
    "    n = length(data)\n",
    "    \n",
    "    function density(z::Float64)\n",
    "        return sum((data .>= (z - step / 2) * ones(n)) .& (data .<= (z + step / 2) * ones(n)))\n",
    "    end\n",
    "    \n",
    "    zb = (start + step/2):step:(finish + step/2)\n",
    "    db = density.(zb) * 1 / (n * step)\n",
    "    lb = layer(x = zb, y = db, Geom.BarGeometry)\n",
    "    \n",
    "    zl = start:0.01:finish\n",
    "    dl = pdf.(gev, zl)\n",
    "    ll = layer(x = zl, y = dl, Geom.line, Theme(default_color = \"Green\"))\n",
    "    \n",
    "    plot(ll, lb, Guide.title(\"Density Plot\"), Guide.xlabel(\"z\"), Guide.ylabel(\"f(z)\"))\n",
    "end\n",
    "\n",
    "function validationplots(data::Array{Float64}, gev::GeneralizedExtremeValue, dstart::Float64, dstep::Float64, dfinish::Float64)\n",
    "    z = sort(data)\n",
    "    m = length(z)\n",
    "    i = collect(1.0:m)\n",
    "    \n",
    "    probabilityPlot = probabilityplot(z, m, i, gev)\n",
    "    quantilePlot = quantileplot(z, m, i, gev)\n",
    "    returnLevelPlot = returnlevelplot(data, gev)\n",
    "    densityPlot = densityplot(gev, data, dstart, dstep, dfinish)\n",
    "    \n",
    "    gridstack([probabilityPlot quantilePlot; returnLevelPlot densityPlot])\n",
    "end;"
   ]
  },
  {
   "cell_type": "markdown",
   "metadata": {},
   "source": [
    "## 3.4.1 Annual Maximum Sea-levels at Port Pirie"
   ]
  },
  {
   "cell_type": "code",
   "execution_count": null,
   "metadata": {},
   "outputs": [],
   "source": [
    "csv = CSV.read(\"portpirie.csv\")\n",
    "df = DataFrame(csv)\n",
    "data = df[:, :SeaLevel];"
   ]
  },
  {
   "cell_type": "code",
   "execution_count": null,
   "metadata": {},
   "outputs": [],
   "source": [
    "gevEVA = gevfit(data)\n",
    "gev = Extremes.getdistribution(gevEVA)"
   ]
  },
  {
   "cell_type": "code",
   "execution_count": null,
   "metadata": {},
   "outputs": [],
   "source": [
    "validationplots(data, gev, 3.5, 0.1, 4.7)"
   ]
  },
  {
   "cell_type": "markdown",
   "metadata": {},
   "source": [
    "## 3.4.2 Glass Fiber Strength Example "
   ]
  },
  {
   "cell_type": "code",
   "execution_count": null,
   "metadata": {},
   "outputs": [],
   "source": [
    "csv = CSV.read(\"glass.csv\", header=false)\n",
    "df = DataFrame(csv)\n",
    "data = -1 * df[:, :Column1]; # minima"
   ]
  },
  {
   "cell_type": "code",
   "execution_count": null,
   "metadata": {},
   "outputs": [],
   "source": [
    "gevEVA = gevfit(data)\n",
    "gev = Extremes.getdistribution(gevEVA)"
   ]
  },
  {
   "cell_type": "code",
   "execution_count": null,
   "metadata": {},
   "outputs": [],
   "source": [
    "validationplots(data, gev, -2.5, 0.15, -0.4)"
   ]
  },
  {
   "cell_type": "markdown",
   "metadata": {},
   "source": [
    "## 6.3.1 Annual Maximum Sea-levels"
   ]
  },
  {
   "cell_type": "code",
   "execution_count": null,
   "metadata": {},
   "outputs": [],
   "source": [
    "quantileχ²₁ = quantile(Chisq(1), 0.95)"
   ]
  },
  {
   "cell_type": "markdown",
   "metadata": {},
   "source": [
    "### Port Pirie"
   ]
  },
  {
   "cell_type": "code",
   "execution_count": null,
   "metadata": {},
   "outputs": [],
   "source": [
    "csv = CSV.read(\"portpirie.csv\")\n",
    "df = DataFrame(csv)\n",
    "data = df[:, :SeaLevel];"
   ]
  },
  {
   "cell_type": "code",
   "execution_count": null,
   "metadata": {},
   "outputs": [],
   "source": [
    "gevEVA = gevfit(data)\n",
    "gev = Extremes.getdistribution(gevEVA)\n",
    "\n",
    "mlogls = sum(@. log(pdf(gev, data)))\n",
    "mloglμlinear = 4.37 # TODO μ linear\n",
    "\n",
    "D = 2(mloglμlinear - mlogls)\n",
    "\n",
    "println(\"linear μ vs. stationnary μ\")\n",
    "println(D, \" < \", quantileχ²₁, \" - X\")"
   ]
  },
  {
   "cell_type": "markdown",
   "metadata": {},
   "source": [
    "### Fremantle"
   ]
  },
  {
   "cell_type": "code",
   "execution_count": null,
   "metadata": {},
   "outputs": [],
   "source": [
    "csv = CSV.read(\"fremantle.csv\")\n",
    "df = DataFrame(csv)\n",
    "data = df[:, :SeaLevel];\n",
    "year = df[:, :Year];\n",
    "soi = df[:, :SOI];"
   ]
  },
  {
   "cell_type": "code",
   "execution_count": null,
   "metadata": {},
   "outputs": [],
   "source": [
    "gevEVA = gevfit(data)\n",
    "gev = Extremes.getdistribution(gevEVA)\n",
    "\n",
    "# μ linear\n",
    "\n",
    "mloglstationnary = sum(@. log(pdf(gev, data)))\n",
    "mloglμlinear = 49.9  # TODO μ linear\n",
    "\n",
    "D = 2(mloglμlinear - mloglstationnary)\n",
    "println(\"linear μ vs. stationnary μ\")\n",
    "println(D, \" > \", quantileχ²₁, \" - ✓\")\n",
    "\n",
    "# μ quadratic\n",
    "\n",
    "mloglμquadratic = 50.6 # TODO μ quadratic\n",
    "\n",
    "D = 2(mloglμquadratic - mloglμlinear)\n",
    "println(\"\\nquadratic μ vs. linear μ\")\n",
    "println(D, \" < \", quantileχ²₁, \" - X\")\n",
    "\n",
    "# σ linear\n",
    "\n",
    "mloglμlinearσlinear = 50.7 # TODO μ linear, σ quadratic\n",
    "\n",
    "D = 2(mloglμlinearσlinear - mloglμlinear)\n",
    "println(\"\\nlinear σ vs. stationnary σ\")\n",
    "println(D, \" < \", quantileχ²₁, \" - X\")\n",
    "# TODO : print params\n",
    "\n",
    "# μ SOI\n",
    "\n",
    "mloglSOIμ = 47.2 # TODO μ SOI\n",
    "\n",
    "D = 2(mloglSOIμ - mloglstationnary)\n",
    "println(\"\\nSOI μ vs. stationnary μ\")\n",
    "println(D, \" > \", quantileχ²₁, \" - ✓\")\n",
    "\n",
    "# μ linear + SOI\n",
    "\n",
    "mloglSOIlinearμ = 53.9 # TODO μ linear + SOI\n",
    "\n",
    "D = 2(mloglSOIlinearμ - mloglμlinear)\n",
    "println(\"\\nlinear + SOI μ vs. linear μ\")\n",
    "println(D, \" > \", quantileχ²₁, \" - ✓\")\n",
    "# TODO : print params"
   ]
  },
  {
   "cell_type": "markdown",
   "metadata": {},
   "source": [
    "#### Linear case"
   ]
  },
  {
   "cell_type": "code",
   "execution_count": null,
   "metadata": {},
   "outputs": [],
   "source": [
    "t₁ =  1897\n",
    "\n",
    "l1 = layer(x = year, y = data)\n",
    "\n",
    "β̂₀ = 1.38 # TODO μ linear\n",
    "β̂₁ = 0.00203 # TODO μ linear\n",
    "l = @. β̂₀ + β̂₁ * (year - t₁)\n",
    "\n",
    "l2 = layer(x = year, y = l, Geom.line, Theme(default_color = \"green\"))\n",
    "\n",
    "plot(l2, l1, Coord.cartesian(xmin = year[1]),\n",
    "    Guide.title(\"Fitted estimates for μ\"), Guide.xlabel(\"Year\"), Guide.ylabel(\"Sea-level\"))"
   ]
  },
  {
   "cell_type": "markdown",
   "metadata": {},
   "source": [
    "## 6.3.2 Race Time Data"
   ]
  },
  {
   "cell_type": "code",
   "execution_count": null,
   "metadata": {},
   "outputs": [],
   "source": [
    "# TODO : Find data..."
   ]
  },
  {
   "cell_type": "markdown",
   "metadata": {},
   "source": [
    "## 6.3.4 Daily Rainfall Data "
   ]
  },
  {
   "cell_type": "code",
   "execution_count": null,
   "metadata": {},
   "outputs": [],
   "source": [
    "csv = CSV.read(\"rain.csv\", header=false)\n",
    "df = DataFrame(csv)\n",
    "data = df[:, :Column1];"
   ]
  },
  {
   "cell_type": "code",
   "execution_count": null,
   "metadata": {},
   "outputs": [],
   "source": [
    "# TODO : pareto + \\sigma linear + deviance statistic"
   ]
  },
  {
   "cell_type": "markdown",
   "metadata": {},
   "source": [
    "## 6.3.5 Wooster Temperature Data"
   ]
  },
  {
   "cell_type": "code",
   "execution_count": null,
   "metadata": {},
   "outputs": [],
   "source": [
    "csv = CSV.read(\"wooster.csv\", header=false)\n",
    "df = DataFrame(csv)\n",
    "data = -1 * df[:, :Column1]; # minima"
   ]
  },
  {
   "cell_type": "code",
   "execution_count": null,
   "metadata": {},
   "outputs": [],
   "source": [
    "# TODO : seasons? keep ξ same but calculate individuals μ and σ"
   ]
  }
 ],
 "metadata": {
  "kernelspec": {
   "display_name": "Julia 1.4.1",
   "language": "julia",
   "name": "julia-1.4"
  },
  "language_info": {
   "file_extension": ".jl",
   "mimetype": "application/julia",
   "name": "julia",
   "version": "1.4.1"
  }
 },
 "nbformat": 4,
 "nbformat_minor": 2
}
