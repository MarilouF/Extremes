{
 "cells": [
  {
   "cell_type": "markdown",
   "metadata": {},
   "source": [
    "# Coles"
   ]
  },
  {
   "cell_type": "code",
   "execution_count": null,
   "metadata": {},
   "outputs": [],
   "source": [
    "using DataFrames\n",
    "using Extremes\n",
    "using Distributions\n",
    "using Gadfly"
   ]
  },
  {
   "cell_type": "markdown",
   "metadata": {},
   "source": [
    "### Model validation functions\n",
    "\n",
    "#### Non-stationary standardization"
   ]
  },
  {
   "cell_type": "code",
   "execution_count": null,
   "metadata": {},
   "outputs": [],
   "source": [
    "function standardize(eva::Extremes.MaximumLikelihoodEVA)\n",
    "    if  eva.model isa Extremes.BlockMaxima\n",
    "        return standardize.(Extremes.getdistribution(eva), eva.model.data[eva.model.dataid])\n",
    "    elseif eva.model isa Extremes.PeaksOverThreshold\n",
    "        return standardize.(Extremes.getdistribution(eva), eva.model.data[eva.model.dataid], Extremes.model.threshold)\n",
    "    end\n",
    "end\n",
    "\n",
    "function standardize(dist::GeneralizedExtremeValue, data::Real)\n",
    "    return (1 / dist.ξ) * log(1 + dist.ξ * (data - dist.μ) / dist.σ)\n",
    "end\n",
    "\n",
    "function standardize(dist::GeneralizedPareto, data::Real, threshold::Real)\n",
    "   return # TODO\n",
    "end\n",
    "\n",
    "function standarddist(test::Type)\n",
    "    if test == GeneralizedExtremeValue\n",
    "        return Gumbel()\n",
    "    elseif test == GeneralizedPareto\n",
    "        return Exponential()\n",
    "    end\n",
    "end"
   ]
  },
  {
   "cell_type": "markdown",
   "metadata": {},
   "source": [
    "#### Probability plot"
   ]
  },
  {
   "cell_type": "code",
   "execution_count": null,
   "metadata": {},
   "outputs": [],
   "source": [
    "function probabilityplot(eva::Extremes.MaximumLikelihoodEVA)\n",
    "    z = sort(eva.model.data[eva.model.dataid])\n",
    "    m = length(z)\n",
    "    dist = Extremes.getdistribution(eva)\n",
    "    \n",
    "    return probabilityplot(z, m, dist)\n",
    "end\n",
    "\n",
    "function residualprobabilityplot(eva::Extremes.MaximumLikelihoodEVA)\n",
    "    std = standardize(eva)\n",
    "    \n",
    "    z = sort(std)\n",
    "    m = length(z)\n",
    "    \n",
    "    return probabilityplot(z, m, standarddist(eva.model.distribution), title = \"Residual Probability Plot\")\n",
    "end\n",
    "    \n",
    "\n",
    "function probabilityplot(z::Array{<:Real}, m::Integer, dist::Distribution; title::String = \"Probability Plot\")\n",
    "    G̃ = collect(1.0:m) ./ (m + 1)\n",
    "    Ĝ = cdf.(dist, z)\n",
    "\n",
    "    l1 = layer(x = G̃, y = Ĝ, Geom.point, Theme(default_color=\"green\"))\n",
    "    l2 = layer(x = 0.0:0.5:1.0, y = 0.0:0.5:1.0, Geom.line)\n",
    "    \n",
    "    return plot(l1, l2, Guide.xlabel(\"Empirical\"), Guide.ylabel(\"Model\"), Guide.title(title))\n",
    "end"
   ]
  },
  {
   "cell_type": "markdown",
   "metadata": {},
   "source": [
    "#### Quantile plot"
   ]
  },
  {
   "cell_type": "code",
   "execution_count": null,
   "metadata": {},
   "outputs": [],
   "source": [
    "function quantileplot(eva::Extremes.MaximumLikelihoodEVA)\n",
    "    z = sort(eva.model.data[eva.model.dataid])\n",
    "    m = length(z)\n",
    "    dist = Extremes.getdistribution(eva)\n",
    "    \n",
    "    return quantileplot(z, m, dist)\n",
    "end\n",
    "\n",
    "function residualquantileplot(eva::Extremes.MaximumLikelihoodEVA)\n",
    "    std = standardize(eva)\n",
    "    \n",
    "    z = sort(std)\n",
    "    m = length(z)\n",
    "    \n",
    "    return quantileplot(z, m, standarddist(eva.model.distribution), title = \"Residual Quantile Plot\")\n",
    "end\n",
    "\n",
    "function quantileplot(z::Array{<:Real}, m::Integer, dist::Distribution; title::String = \"Quantile Plot\")\n",
    "    Ĝ⁻¹ = quantile.(dist, collect(1.0:m) / (m + 1))\n",
    "\n",
    "    l1 = layer(x = Ĝ⁻¹, y = z, Geom.point, Theme(default_color=\"green\"))\n",
    "    l2 = layer(x = Ĝ⁻¹[1]:(Ĝ⁻¹[m] - Ĝ⁻¹[1])/2:Ĝ⁻¹[m], y = Ĝ⁻¹[1]:(Ĝ⁻¹[m] - Ĝ⁻¹[1])/2:Ĝ⁻¹[m], Geom.line)\n",
    "    \n",
    "    return plot(l1, l2, Guide.title(title), Guide.xlabel(\"Model\"), Guide.ylabel(\"Empirical\"),\n",
    "        Coord.cartesian(xmin = Ĝ⁻¹[1], ymin = z[1]))\n",
    "end"
   ]
  },
  {
   "cell_type": "markdown",
   "metadata": {},
   "source": [
    "#### Return level plot"
   ]
  },
  {
   "cell_type": "code",
   "execution_count": null,
   "metadata": {},
   "outputs": [],
   "source": [
    "function returnlevelplot(eva::Extremes.MaximumLikelihoodEVA)\n",
    "    z = sort(eva.model.data[eva.model.dataid])\n",
    "    m = length(z)\n",
    "    dist = Extremes.getdistribution(eva)\n",
    "\n",
    "    return returnlevelplot(z, m, dist)\n",
    "end\n",
    "\n",
    "function returnlevelplot(z::Array{<:Real}, m::Integer, dist::Ty) where Ty<:Distribution\n",
    "    T = 2:0.2:10\n",
    "    logT = log.(T)\n",
    "    p = 1 .- 1 ./ T\n",
    "    \n",
    "    q = z[Int.(round.(p .* m))]\n",
    "    \n",
    "    layers = []\n",
    "    push!(layers, layer(x = logT, y = q, Geom.point, Theme(default_color=\"green\")))\n",
    "\n",
    "    shape = [-0.2, 0.0, 0.2]\n",
    "    for ξ in shape\n",
    "        pd = Ty(dist.μ, dist.σ, ξ)\n",
    "        q = quantile.(pd, p)\n",
    "        push!(layers, layer(x = logT, y = q, Geom.line))\n",
    "    end\n",
    "    \n",
    "    return plot(layers..., Guide.title(\"Return Level Plot\"), Guide.xlabel(\"Period\"), Guide.ylabel(\"Level\"),\n",
    "        Coord.cartesian(xmin = logT[1]))\n",
    "end"
   ]
  },
  {
   "cell_type": "markdown",
   "metadata": {},
   "source": [
    "#### Density plot"
   ]
  },
  {
   "cell_type": "code",
   "execution_count": null,
   "metadata": {},
   "outputs": [],
   "source": [
    "function densityplot(eva::Extremes.MaximumLikelihoodEVA; nbars::Integer = 10)\n",
    "    z = sort(eva.model.data[eva.model.dataid])\n",
    "    m = length(z)\n",
    "    dist = Extremes.getdistribution(eva)\n",
    "\n",
    "    return densityplot(z, m, dist)\n",
    "end\n",
    "\n",
    "function densityplot(z::Array{<:Real}, m::Integer, dist::Distribution; nbars::Integer = 10)\n",
    "    start = z[1]\n",
    "    finish = z[end]\n",
    "    step = (finish - start) / nbars\n",
    "    \n",
    "    function density(v::Real)\n",
    "        return sum((z .>= (v - step / 2) * ones(m)) .& (z .<= (v + step / 2) * ones(m)))\n",
    "    end\n",
    "    \n",
    "    zb = (start + step/2):step:(finish + step/2)\n",
    "    db = density.(zb) * 1 / (m * step)\n",
    "    lb = layer(x = zb, y = db, Geom.BarGeometry)\n",
    "    \n",
    "    zl = start:0.01:(finish + step)\n",
    "    dl = pdf.(dist, zl)\n",
    "    ll = layer(x = zl, y = dl, Geom.line, Theme(default_color = \"Green\"))\n",
    "    \n",
    "    return plot(ll, lb, Guide.title(\"Density Plot\"), Guide.xlabel(\"z\"), Guide.ylabel(\"f(z)\"))\n",
    "end"
   ]
  },
  {
   "cell_type": "markdown",
   "metadata": {},
   "source": [
    "`validationplots` is the function that should be called to display all the graphs "
   ]
  },
  {
   "cell_type": "code",
   "execution_count": null,
   "metadata": {},
   "outputs": [],
   "source": [
    "function validationplots(eva::Extremes.MaximumLikelihoodEVA; nbars::Integer = 10)\n",
    "    z = sort(eva.model.data[eva.model.dataid])\n",
    "    m = length(z)\n",
    "    dist = Extremes.getdistribution(eva)\n",
    "    \n",
    "    probabilityPlot = probabilityplot(z, m, dist)\n",
    "    quantilePlot = quantileplot(z, m, dist)\n",
    "    returnLevelPlot = returnlevelplot(z, m, dist)\n",
    "    densityPlot = densityplot(z, m, dist, nbars = nbars)\n",
    "    \n",
    "    return gridstack([probabilityPlot quantilePlot; returnLevelPlot densityPlot])\n",
    "end\n",
    "\n",
    "function residualvalidationplots(eva::Extremes.MaximumLikelihoodEVA)\n",
    "    std = standardize(eva)\n",
    "\n",
    "    z = sort(std)\n",
    "    m = length(z)\n",
    "    dist = standarddist(eva.model.distribution)\n",
    "    \n",
    "    probabilityPlot = probabilityplot(z, m, dist, title = \"Residual Probability Plot\")\n",
    "    quantilePlot = quantileplot(z, m, dist, title = \"Residual Quantile Plot\")\n",
    "    \n",
    "    return hstack(probabilityPlot, quantilePlot)\n",
    "end"
   ]
  },
  {
   "cell_type": "markdown",
   "metadata": {},
   "source": [
    "### Utility function\n",
    "\n",
    "`printparams` prints the parameter estimation for a block maxima structure"
   ]
  },
  {
   "cell_type": "code",
   "execution_count": null,
   "metadata": {},
   "outputs": [],
   "source": [
    "function printparams(eva::Extremes.MaximumLikelihoodEVA)\n",
    "    for (index, value) in pairs(eva.model.paramindex)\n",
    "        println(index, \" : \", eva.θ̂[value])\n",
    "    end\n",
    "end"
   ]
  },
  {
   "cell_type": "markdown",
   "metadata": {},
   "source": [
    "## 3.4.1 Annual Maximum Sea-levels at Port Pirie"
   ]
  },
  {
   "cell_type": "code",
   "execution_count": null,
   "metadata": {},
   "outputs": [],
   "source": [
    "raw = load(\"portpirie\")\n",
    "df = DataFrame(raw)\n",
    "data = df[:, :SeaLevel];"
   ]
  },
  {
   "cell_type": "code",
   "execution_count": null,
   "metadata": {},
   "outputs": [],
   "source": [
    "gevEVA = gevfit(data)\n",
    "gev = Extremes.getdistribution(gevEVA)"
   ]
  },
  {
   "cell_type": "code",
   "execution_count": null,
   "metadata": {
    "scrolled": false
   },
   "outputs": [],
   "source": [
    "validationplots(gevEVA)"
   ]
  },
  {
   "cell_type": "markdown",
   "metadata": {},
   "source": [
    "10-year return level with 95% accuracy"
   ]
  },
  {
   "cell_type": "code",
   "execution_count": null,
   "metadata": {},
   "outputs": [],
   "source": [
    "year = 10\n",
    "accuracy = 95\n",
    "p = 1 - 1 / year\n",
    "\n",
    "z = Extremes.quantile(gevEVA.model, gevEVA.θ̂, p)\n",
    "v = sqrt(Extremes.quantilevar(gevEVA, p))\n",
    "\n",
    "a = 1 - (1 - accuracy/100) / 2\n",
    "\n",
    "i = quantile(Normal(), a)\n",
    "\n",
    "println(\"z = [\", z - i * v, \", \", z + i * v, \"]\")"
   ]
  },
  {
   "cell_type": "markdown",
   "metadata": {},
   "source": [
    "## 3.4.2 Glass Fiber Strength Example "
   ]
  },
  {
   "cell_type": "code",
   "execution_count": null,
   "metadata": {},
   "outputs": [],
   "source": [
    "raw = load(\"glass\")\n",
    "df = DataFrame(raw)\n",
    "data = -1 * df[:, :Strength]; # minima"
   ]
  },
  {
   "cell_type": "code",
   "execution_count": null,
   "metadata": {},
   "outputs": [],
   "source": [
    "gevEVA = gevfit(data)\n",
    "gev = Extremes.getdistribution(gevEVA)"
   ]
  },
  {
   "cell_type": "code",
   "execution_count": null,
   "metadata": {},
   "outputs": [],
   "source": [
    "validationplots(gevEVA)"
   ]
  },
  {
   "cell_type": "markdown",
   "metadata": {},
   "source": [
    "## 4.4.1 Daily Rainfall Data"
   ]
  },
  {
   "cell_type": "code",
   "execution_count": null,
   "metadata": {},
   "outputs": [],
   "source": [
    "raw = load(\"rain\")\n",
    "df = DataFrame(raw)\n",
    "data = df[:, :Rainfall]\n",
    "\n",
    "threshold = 30\n",
    "exceedances = data[data.>threshold] .- threshold\n",
    "\n",
    "gpEVA = Extremes.gpfit(exceedances, threshold = [threshold]) # TODO: Export\n",
    "gp = Extremes.getdistribution(gpEVA)"
   ]
  },
  {
   "cell_type": "code",
   "execution_count": null,
   "metadata": {},
   "outputs": [],
   "source": [
    "validationplots(gpEVA)"
   ]
  },
  {
   "cell_type": "markdown",
   "metadata": {},
   "source": [
    "100-year return level with 95% accuracy"
   ]
  },
  {
   "cell_type": "code",
   "execution_count": null,
   "metadata": {},
   "outputs": [],
   "source": [
    "year = 100\n",
    "mperyear = 365\n",
    "accuracy = 95\n",
    "\n",
    "k = sum(data .> threshold)\n",
    "n = length(data)\n",
    "\n",
    "m = year * mperyear * k / n\n",
    "\n",
    "p = 1 - 1 / m\n",
    "\n",
    "z = Extremes.quantile(gpEVA.model, gpEVA.θ̂, p) + threshold\n",
    "v = sqrt(Extremes.quantilevar(gpEVA, p))\n",
    "\n",
    "a = 1 - (1 - accuracy/100) / 2\n",
    "\n",
    "i = quantile(Normal(), a)\n",
    "\n",
    "println(\"z = [\", z - i * v, \", \", z + i * v, \"]\")"
   ]
  },
  {
   "cell_type": "markdown",
   "metadata": {},
   "source": [
    "## 4.4.2 Dow Jones Index Series"
   ]
  },
  {
   "cell_type": "code",
   "execution_count": null,
   "metadata": {},
   "outputs": [],
   "source": [
    "raw = lraw = load(\"dowjones\")\n",
    "df = DataFrame(raw)\n",
    "data = df[:, :Index]\n",
    "\n",
    "function dowjonestransformation(i::Integer)\n",
    "   return 100 * (log(data[i]) - log(data[i - 1]))\n",
    "end\n",
    "\n",
    "i = 2:length(data)\n",
    "transformed = dowjonestransformation.(i)\n",
    "\n",
    "threshold = 2\n",
    "exceedances = transformed[transformed.>threshold] .- threshold\n",
    "\n",
    "gpEVA = Extremes.gpfit(exceedances, threshold = [threshold]) # TODO : export\n",
    "gp = Extremes.getdistribution(gpEVA)"
   ]
  },
  {
   "cell_type": "code",
   "execution_count": null,
   "metadata": {},
   "outputs": [],
   "source": [
    "validationplots(gpEVA)"
   ]
  },
  {
   "cell_type": "markdown",
   "metadata": {},
   "source": [
    "## 6.3.1 Annual Maximum Sea-levels"
   ]
  },
  {
   "cell_type": "code",
   "execution_count": null,
   "metadata": {},
   "outputs": [],
   "source": [
    "quantileχ²₁ = quantile(Chisq(1), 0.95)"
   ]
  },
  {
   "cell_type": "markdown",
   "metadata": {},
   "source": [
    "### Port Pirie"
   ]
  },
  {
   "cell_type": "code",
   "execution_count": null,
   "metadata": {},
   "outputs": [],
   "source": [
    "raw = load(\"portpirie\")\n",
    "df = DataFrame(raw)\n",
    "data = df[:, :SeaLevel]\n",
    "\n",
    "t = collect(1:length(data))\n",
    "\n",
    "d = Dict(:data => data, :t => t, :n => length(data));"
   ]
  },
  {
   "cell_type": "markdown",
   "metadata": {},
   "source": [
    "#### Stationary"
   ]
  },
  {
   "cell_type": "code",
   "execution_count": null,
   "metadata": {
    "scrolled": true
   },
   "outputs": [],
   "source": [
    "gevEVA = gevfit(data)\n",
    "printparams(gevEVA)\n",
    "gev = Extremes.getdistribution(gevEVA)\n",
    "\n",
    "mlogls = sum(log.(pdf.(gev, data)));"
   ]
  },
  {
   "cell_type": "markdown",
   "metadata": {},
   "source": [
    "#### μ linear"
   ]
  },
  {
   "cell_type": "code",
   "execution_count": null,
   "metadata": {},
   "outputs": [],
   "source": [
    "cov = Dict(:μ => [:t], :ϕ => Symbol[], :ξ => Symbol[])\n",
    "EVA = gevfit(d, :data, Covariate = cov)\n",
    "printparams(EVA)\n",
    "linμgev = Extremes.getdistribution(EVA);\n",
    "\n",
    "mloglμlinear = sum(log.(pdf.(linμgev, data)))\n",
    "\n",
    "D = 2(mloglμlinear - mlogls)\n",
    "\n",
    "println()\n",
    "println(\"linear μ vs. stationary μ\")\n",
    "println(D, \" < \", quantileχ²₁)\n",
    "println(\"Stationary is a better represantation\")"
   ]
  },
  {
   "cell_type": "markdown",
   "metadata": {},
   "source": [
    "### Fremantle"
   ]
  },
  {
   "cell_type": "code",
   "execution_count": null,
   "metadata": {},
   "outputs": [],
   "source": [
    "raw = load(\"fremantle\")\n",
    "df = DataFrame(raw)\n",
    "data = df[:, :SeaLevel]\n",
    "year = df[:, :Year]\n",
    "soi = df[:, :SOI]\n",
    "\n",
    "t = collect(1:length(data))\n",
    "t2 = t.^2\n",
    "\n",
    "d = Dict(:data => data, :t => t, :t2 => t2, :soi => soi, :n => length(data));"
   ]
  },
  {
   "cell_type": "markdown",
   "metadata": {},
   "source": [
    "#### Stationary"
   ]
  },
  {
   "cell_type": "code",
   "execution_count": null,
   "metadata": {},
   "outputs": [],
   "source": [
    "gevEVA = gevfit(data)\n",
    "printparams(gevEVA)\n",
    "gev = Extremes.getdistribution(gevEVA)\n",
    "\n",
    "mloglstationary = sum(log.(pdf.(gev, data)));"
   ]
  },
  {
   "cell_type": "markdown",
   "metadata": {},
   "source": [
    "#### μ linear"
   ]
  },
  {
   "cell_type": "code",
   "execution_count": null,
   "metadata": {},
   "outputs": [],
   "source": [
    "cov = Dict(:μ => [:t], :ϕ => Symbol[], :ξ => Symbol[])\n",
    "EVA = gevfit(d, :data, Covariate = cov)\n",
    "printparams(EVA)\n",
    "linμgev = Extremes.getdistribution(EVA);\n",
    "\n",
    "mloglμlinear = sum(log.(pdf.(linμgev, data)))\n",
    "\n",
    "println()\n",
    "println(\"linear μ vs. stationary μ\")\n",
    "D = 2(mloglμlinear - mloglstationary)\n",
    "println(D, \" > \", quantileχ²₁)\n",
    "println(\"Linear is a better representation\")"
   ]
  },
  {
   "cell_type": "code",
   "execution_count": null,
   "metadata": {},
   "outputs": [],
   "source": [
    "t₁ =  1897\n",
    "\n",
    "l1 = layer(x = year, y = data)\n",
    "\n",
    "μs = EVA.θ̂[EVA.model.paramindex[:μ]]\n",
    "println(\"μ̂  = \", μs)\n",
    "\n",
    "β̂₀ = μs[1]\n",
    "β̂₁ = μs[2]\n",
    "l = β̂₀ .+ β̂₁ .* (year .- t₁)\n",
    "\n",
    "l2 = layer(x = year, y = l, Geom.line, Theme(default_color = \"green\"))\n",
    "\n",
    "plot(l2, l1, Coord.cartesian(xmin = year[1]),\n",
    "    Guide.title(\"Fitted estimates for μ\"), Guide.xlabel(\"Year\"), Guide.ylabel(\"Sea-level\"))"
   ]
  },
  {
   "cell_type": "code",
   "execution_count": null,
   "metadata": {},
   "outputs": [],
   "source": [
    "residualvalidationplots(EVA)"
   ]
  },
  {
   "cell_type": "markdown",
   "metadata": {},
   "source": [
    "####  μ quadratic"
   ]
  },
  {
   "cell_type": "code",
   "execution_count": null,
   "metadata": {},
   "outputs": [],
   "source": [
    "cov = Dict(:μ => [:t, :t2], :ϕ => Symbol[], :ξ => Symbol[])\n",
    "EVA = gevfit(d, :data, Covariate = cov)\n",
    "printparams(EVA)\n",
    "quadμgev = Extremes.getdistribution(EVA);\n",
    "\n",
    "mloglμquadratic = sum(log.(pdf.(quadμgev, data)))\n",
    "\n",
    "println()\n",
    "println(\"quadratic μ vs. linear μ\")\n",
    "D = 2(mloglμquadratic - mloglμlinear)\n",
    "println(D, \" < \", quantileχ²₁)\n",
    "println(\"Linear is a better representation\")"
   ]
  },
  {
   "cell_type": "markdown",
   "metadata": {},
   "source": [
    "#### σ linear"
   ]
  },
  {
   "cell_type": "code",
   "execution_count": null,
   "metadata": {},
   "outputs": [],
   "source": [
    "cov = Dict(:μ => [:t], :ϕ => [:t], :ξ => Symbol[])\n",
    "EVA = gevfit(d, :data, Covariate = cov)\n",
    "printparams(EVA)\n",
    "linσgev = Extremes.getdistribution(EVA);\n",
    "\n",
    "mloglμlinearσlinear = sum(log.(pdf.(linσgev, data)))\n",
    "\n",
    "println()\n",
    "println(\"linear σ vs. stationary σ\")\n",
    "D = 2(mloglμlinearσlinear - mloglμlinear)\n",
    "println(D, \" < \", quantileχ²₁)\n",
    "println(\"Stationary is a better representation\")"
   ]
  },
  {
   "cell_type": "markdown",
   "metadata": {},
   "source": [
    "#### μ SOI"
   ]
  },
  {
   "cell_type": "code",
   "execution_count": null,
   "metadata": {},
   "outputs": [],
   "source": [
    "cov = Dict(:μ => [:soi], :ϕ => Symbol[], :ξ => Symbol[])\n",
    "EVA = gevfit(d, :data, Covariate = cov)\n",
    "printparams(EVA)\n",
    "soiμgev = Extremes.getdistribution(EVA);\n",
    "\n",
    "mloglSOIμ = sum(log.(pdf.(soiμgev, data)))\n",
    "\n",
    "println()\n",
    "println(\"SOI μ vs. stationary μ\")\n",
    "D = 2(mloglSOIμ - mloglstationary)\n",
    "println(D, \" > \", quantileχ²₁)\n",
    "println(\"SOI is a better representation\")"
   ]
  },
  {
   "cell_type": "markdown",
   "metadata": {},
   "source": [
    "#### μ linear + SOI"
   ]
  },
  {
   "cell_type": "code",
   "execution_count": null,
   "metadata": {},
   "outputs": [],
   "source": [
    "cov = Dict(:μ => [:t, :soi], :ϕ => Symbol[], :ξ => Symbol[])\n",
    "EVA = gevfit(d, :data, Covariate = cov)\n",
    "printparams(EVA)\n",
    "linsoiμgev = Extremes.getdistribution(EVA);\n",
    "\n",
    "mloglSOIlinearμ = sum(log.(pdf.(linsoiμgev, data)))\n",
    "\n",
    "println()\n",
    "println(\"linear + SOI μ vs. linear μ\")\n",
    "D = 2(mloglSOIlinearμ - mloglμlinear)\n",
    "println(D, \" > \", quantileχ²₁)\n",
    "println(\"Linear + SOI is a better representation\")"
   ]
  },
  {
   "cell_type": "markdown",
   "metadata": {},
   "source": [
    "## 6.3.4 Daily Rainfall Data "
   ]
  },
  {
   "cell_type": "code",
   "execution_count": null,
   "metadata": {},
   "outputs": [],
   "source": [
    "raw = load(\"rain\")\n",
    "df = DataFrame(raw)\n",
    "data = df[:, :Rainfall];\n",
    "\n",
    "threshold = 30\n",
    "exceedances = data[data.>threshold] .- threshold\n",
    "\n",
    "EVA = Extremes.gpfit(exceedances, threshold = [threshold])\n",
    "stationarygp = Extremes.getdistribution(EVA)\n",
    "\n",
    "mloglstationary = sum(log.(pdf.(stationarygp, exceedances)));"
   ]
  },
  {
   "cell_type": "code",
   "execution_count": null,
   "metadata": {},
   "outputs": [],
   "source": [
    "t = collect(1:length(exceedances))\n",
    "\n",
    "d = Dict(:data => exceedances, :t => t, :n => length(exceedances))\n",
    "\n",
    "cov = Dict(:μ => [], :ϕ => Symbol[:t], :ξ => Symbol[])\n",
    "EVA = Extremes.gpfit(d, :data, Covariate = cov) # TODO : Export\n",
    "printparams(EVA)\n",
    "linσgp = Extremes.getdistribution(EVA)\n",
    "\n",
    "mloglσlinear = sum(log.(pdf.(linσgp, exceedances)))\n",
    "\n",
    "println()\n",
    "println(\"linear σ vs. stationary σ\")\n",
    "D = 2(mloglstationary - mloglσlinear)\n",
    "println(D, \" < \", quantileχ²₁)\n",
    "println(\"Stationary is a better representation\")"
   ]
  },
  {
   "cell_type": "markdown",
   "metadata": {},
   "source": [
    "## 9.1.3 Example: Port Pirie Annual Maximum Sea-levels \n",
    "The priors used by Extremes.jl and by Coles differ, but the results should remain close"
   ]
  },
  {
   "cell_type": "code",
   "execution_count": null,
   "metadata": {},
   "outputs": [],
   "source": [
    "raw = load(\"portpirie\")\n",
    "df = DataFrame(raw)\n",
    "data = df[:, :SeaLevel];\n",
    "\n",
    "EVA = gevfitbayes(data)"
   ]
  },
  {
   "cell_type": "code",
   "execution_count": null,
   "metadata": {},
   "outputs": [],
   "source": [
    "μs = EVA.sim.value[:, EVA.model.paramindex[:μ]]\n",
    "ϕs = EVA.sim.value[:, EVA.model.paramindex[:ϕ]]\n",
    "ξs = EVA.sim.value[:, EVA.model.paramindex[:ξ]]\n",
    "q = quantile(EVA, 0.99)\n",
    "\n",
    "println(\"μ̂ = \", mean(μs), \" (\", sqrt(var(μs)), \")\")\n",
    "println(\"σ̂ = \", mean(exp.(ϕs)), \" (\", sqrt(var(exp.(ϕs))), \")\")\n",
    "println(\"ξ̂ = \", mean(ξs), \" (\", sqrt(var(ξs)), \")\")\n",
    "println(\"ẑ = \", mean(q), \" (\", sqrt(var(q)), \")\")"
   ]
  }
 ],
 "metadata": {
  "kernelspec": {
   "display_name": "Julia 1.4.1",
   "language": "julia",
   "name": "julia-1.4"
  },
  "language_info": {
   "file_extension": ".jl",
   "mimetype": "application/julia",
   "name": "julia",
   "version": "1.4.1"
  }
 },
 "nbformat": 4,
 "nbformat_minor": 2
}
